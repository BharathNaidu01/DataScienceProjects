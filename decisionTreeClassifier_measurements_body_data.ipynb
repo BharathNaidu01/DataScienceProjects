{
 "cells": [
  {
   "cell_type": "code",
   "execution_count": 1,
   "metadata": {},
   "outputs": [],
   "source": [
    "# in this model, we are passing height, weight, and shoe size and we are trying to findout whether those measurements belongs to male \n",
    "#or female.\n",
    "#the tree helps us to use a decision tree model.\n",
    "from sklearn import tree"
   ]
  },
  {
   "cell_type": "code",
   "execution_count": 2,
   "metadata": {},
   "outputs": [],
   "source": [
    "#[height,weight,shoesize]\n",
    "X=[[181,80,44], [177,70,43], [160,60,38], [154,54,37], \n",
    "   [166,65,40], [190,90,47], [175,64,39], [177,70,40], [159,55,37],\n",
    "   [171,75,42], [181,85,43]\n",
    "]\n",
    "\n",
    "Y= ['male','female','female','female','male','male','male','female',\n",
    "   'male','female','male']"
   ]
  },
  {
   "cell_type": "code",
   "execution_count": 7,
   "metadata": {},
   "outputs": [
    {
     "name": "stdout",
     "output_type": "stream",
     "text": [
      "['male']\n"
     ]
    }
   ],
   "source": [
    "clf = tree.DecisionTreeClassifier()\n",
    "#Here we are using decisiontreealgorithm.\n",
    "\n",
    "clf = clf.fit(X,Y)\n",
    "\n",
    "prediction =  clf.predict([[190,70,43]])\n",
    "\n",
    "print(prediction)\n"
   ]
  },
  {
   "cell_type": "code",
   "execution_count": null,
   "metadata": {},
   "outputs": [],
   "source": []
  }
 ],
 "metadata": {
  "kernelspec": {
   "display_name": "Python 3",
   "language": "python",
   "name": "python3"
  },
  "language_info": {
   "codemirror_mode": {
    "name": "ipython",
    "version": 3
   },
   "file_extension": ".py",
   "mimetype": "text/x-python",
   "name": "python",
   "nbconvert_exporter": "python",
   "pygments_lexer": "ipython3",
   "version": "3.8.5"
  }
 },
 "nbformat": 4,
 "nbformat_minor": 4
}
